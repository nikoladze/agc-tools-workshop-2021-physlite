{
 "cells": [
  {
   "cell_type": "markdown",
   "id": "european-ebony",
   "metadata": {},
   "source": [
    "# Columnar data analysis with `DAOD_PHYSLITE`\n",
    "\n",
    "* prototype format within ATLAS to provide a small (~10kb/event), generic analysis format for end-user analysis\n",
    "* standard set of calibrations already applied during production  \n",
    "  suitable for fast downstream processing\n",
    "\n",
    "It is one of the components of the ATLAS analysis model starting from Run-3:\n",
    "\n",
    "<img src=\"img/run3_model_focus.png\" width=\"800\"/>\n",
    "\n",
    "(plot from [presentation at CHEP2020](https://doi.org/10.1051/epjconf/202024506014))\n",
    "\n",
    "\n",
    "The format and corresponding analysis applications are still under development\n",
    "\n",
    "<div class=\"alert alert-block alert-success\">\n",
    "→ focus of this presentation: columnar data analysis with python tools on this format\n",
    "</div>\n",
    "\n",
    "For further information also see\n",
    "\n",
    "- [VCHEP2021 presentation](https://doi.org/10.1051/epjconf/202125103001)\n",
    "- code for columnar analysis R&D studies: https://gitlab.cern.ch/nihartma/physlite-experiments"
   ]
  },
  {
   "cell_type": "markdown",
   "id": "patient-recommendation",
   "metadata": {},
   "source": [
    "## Reading the data using uproot"
   ]
  },
  {
   "cell_type": "markdown",
   "id": "particular-fashion",
   "metadata": {},
   "source": [
    "The PHYSLITE ROOT files currently follow a similar structure as regular ATLAS xAODs\n",
    "\n",
    "They containing several trees, where the one holding the actual data is called `CollectionTree`. The others contain various forms of Metadata."
   ]
  },
  {
   "cell_type": "code",
   "execution_count": null,
   "id": "impossible-leave",
   "metadata": {},
   "outputs": [],
   "source": [
    "import uproot"
   ]
  },
  {
   "cell_type": "code",
   "execution_count": null,
   "id": "immediate-judge",
   "metadata": {},
   "outputs": [],
   "source": [
    "f = uproot.open(\"data/DAOD_PHYSLITE_21.2.108.0.art.pool.root\")"
   ]
  },
  {
   "cell_type": "code",
   "execution_count": null,
   "id": "manufactured-footwear",
   "metadata": {},
   "outputs": [],
   "source": [
    "f.keys()"
   ]
  },
  {
   "cell_type": "markdown",
   "id": "c7de7b17-eba4-4678-9cc0-6862ac016b2b",
   "metadata": {},
   "source": [
    "### 1-D vectors\n",
    "* All branches are stored with the **highest split level**\n",
    "* In most cases data stored in branches called `Aux.<something>` or `AuxDyn.<something>`\n",
    "* Typically **vectors of fundamental types**, like e.g. pt/eta/phi of particle collections\n",
    "* **can be read into numpy arrays efficiently using uproot** since data stored as contiguous blocks  \n",
    "(except for the 10-byte vector headers whoose positions are known from ROOT's event offsets)"
   ]
  },
  {
   "cell_type": "code",
   "execution_count": null,
   "id": "bizarre-spring",
   "metadata": {},
   "outputs": [],
   "source": [
    "f[\"CollectionTree\"].show(\"/AnalysisElectronsAuxDyn.(pt|eta|phi)$/i\", name_width=30, interpretation_width=50)"
   ]
  },
  {
   "cell_type": "markdown",
   "id": "painted-glance",
   "metadata": {
    "tags": []
   },
   "source": [
    "### ElementLinks\n",
    "\n",
    "The most relevant exception to this: `ElementLink` branches:\n",
    "\n",
    "* provide cross references into other collections\n",
    "* **often 2-dimensional** (`vector<vector<ElementLink<...>>>`)\n",
    "* data part (`ElementLink`) is serialized as a **structure of 2 32bit unsigned integers**:\n",
    "  * hash `m_persKey`, identifying the target collection\n",
    "  * index `m_persIndex` identifying the array-index of the corresponding particle in the target collection."
   ]
  },
  {
   "cell_type": "code",
   "execution_count": null,
   "id": "understood-channel",
   "metadata": {},
   "outputs": [],
   "source": [
    "f[\"CollectionTree/AnalysisElectronsAuxDyn.trackParticleLinks\"].typename"
   ]
  },
  {
   "cell_type": "code",
   "execution_count": null,
   "id": "molecular-craft",
   "metadata": {},
   "outputs": [],
   "source": [
    "[element.all_members for element in f.file.streamer_named(\"ElementLinkBase\").elements]"
   ]
  },
  {
   "cell_type": "markdown",
   "id": "arctic-gibson",
   "metadata": {},
   "source": [
    "Uproot can read this, but the loop that deserializes the data is done in python and therefore slow.\n",
    "\n",
    "This is not relevant for this very small file, but becomes important for larger files."
   ]
  },
  {
   "cell_type": "code",
   "execution_count": null,
   "id": "strategic-duration",
   "metadata": {},
   "outputs": [],
   "source": [
    "%%time\n",
    "f[\"CollectionTree/AnalysisElectronsAuxDyn.trackParticleLinks\"].array()"
   ]
  },
  {
   "cell_type": "markdown",
   "id": "exotic-queens",
   "metadata": {},
   "source": [
    "This can be handled by [AwkwardForth](https://doi.org/10.1051/epjconf/202125103002) which is however currently (November 2021) not yet integrated with uproot.\n",
    "\n",
    "I included a small module that can handle the relevant branches in PHYSLITE with a function `branch_to_array` that uses AwkwardForth internally."
   ]
  },
  {
   "cell_type": "code",
   "execution_count": null,
   "id": "vocal-passing",
   "metadata": {},
   "outputs": [],
   "source": [
    "from awkward_forth_physlite import branch_to_array"
   ]
  },
  {
   "cell_type": "code",
   "execution_count": null,
   "id": "foster-victorian",
   "metadata": {},
   "outputs": [],
   "source": [
    "branch_to_array(f[\"CollectionTree/AnalysisElectronsAuxDyn.trackParticleLinks\"])"
   ]
  },
  {
   "cell_type": "markdown",
   "id": "9ca4a8ae-bbf4-49c4-983a-3bb971ec6ea9",
   "metadata": {},
   "source": [
    "One can actually see a significant improvement already for the small file with only 40 events!"
   ]
  },
  {
   "cell_type": "code",
   "execution_count": null,
   "id": "persistent-energy",
   "metadata": {},
   "outputs": [],
   "source": [
    "%%timeit\n",
    "# using standard uproot\n",
    "f.file.array_cache.clear()\n",
    "f[\"CollectionTree/AnalysisElectronsAuxDyn.trackParticleLinks\"].array()"
   ]
  },
  {
   "cell_type": "code",
   "execution_count": null,
   "id": "favorite-realtor",
   "metadata": {},
   "outputs": [],
   "source": [
    "%%timeit\n",
    "# using awkward forth\n",
    "f.file.array_cache.clear()\n",
    "branch_to_array(f[\"CollectionTree/AnalysisElectronsAuxDyn.trackParticleLinks\"])"
   ]
  },
  {
   "cell_type": "markdown",
   "id": "4517f831",
   "metadata": {},
   "source": [
    "## Integration with `coffea.nanoevents`\n",
    "\n",
    "The PHYSLITE schema and the corresponding behavior classes are still under development - [CoffeaTeam/coffea#540](https://github.com/CoffeaTeam/coffea/issues/540) tracks the progress of some TODO items.\n",
    "\n",
    "For more information on `NanoEvents` see the [NanoEvents tutorial](https://github.com/CoffeaTeam/coffea/blob/master/binder/nanoevents.ipynb) or [Nick Smith's presentation](https://youtu.be/udzkE6t4Mck) at the [pyHEP 2020](https://indico.cern.ch/event/882824).\n",
    "\n",
    "<div class=\"alert alert-block alert-success\">\n",
    "    <b>The Goal:</b>\n",
    "    <ul>\n",
    "        <li>Work with object-oriented event data models, but stick to the array-at-a-time processing paradigm.<br> → Struct/Object of arrays instead of Array of structs/objects</li>\n",
    "        <li>Hide the details from the user</li>\n",
    "    </ul>\n",
    "</div>"
   ]
  },
  {
   "cell_type": "markdown",
   "id": "6b1af13d-84f3-4b9f-9adf-beb9d1620e36",
   "metadata": {},
   "source": [
    "### The NanoEvents object"
   ]
  },
  {
   "cell_type": "code",
   "execution_count": null,
   "id": "aa7223f9-2528-4c82-89ef-3dc09962e1b1",
   "metadata": {},
   "outputs": [],
   "source": [
    "# uncomment this for reading larger files\n",
    "# (needed for good performance until AwkwardForth is integrated with uproot)\n",
    "\n",
    "#from awkward_forth_physlite import patch_nanoevents\n",
    "#patch_nanoevents()"
   ]
  },
  {
   "cell_type": "code",
   "execution_count": null,
   "id": "f08d7cbe",
   "metadata": {},
   "outputs": [],
   "source": [
    "from coffea.nanoevents import NanoEventsFactory, PHYSLITESchema"
   ]
  },
  {
   "cell_type": "code",
   "execution_count": null,
   "id": "02f86f8a",
   "metadata": {},
   "outputs": [],
   "source": [
    "factory = NanoEventsFactory.from_root(\n",
    "    \"data/DAOD_PHYSLITE_21.2.108.0.art.pool.root\", \"CollectionTree\", schemaclass=PHYSLITESchema\n",
    ")\n",
    "events = factory.events()"
   ]
  },
  {
   "cell_type": "code",
   "execution_count": null,
   "id": "fa2255c4",
   "metadata": {},
   "outputs": [],
   "source": [
    "events"
   ]
  },
  {
   "cell_type": "code",
   "execution_count": null,
   "id": "8e589085",
   "metadata": {},
   "outputs": [],
   "source": [
    "events.Electrons"
   ]
  },
  {
   "cell_type": "markdown",
   "id": "976d5391",
   "metadata": {},
   "source": [
    "All columns from the `Aux` and `AuxDyn` branches are available and automatically grouped under the collections:"
   ]
  },
  {
   "cell_type": "code",
   "execution_count": null,
   "id": "828b1c97",
   "metadata": {},
   "outputs": [],
   "source": [
    "events.Electrons.fields"
   ]
  },
  {
   "cell_type": "code",
   "execution_count": null,
   "id": "5a0fa547",
   "metadata": {},
   "outputs": [],
   "source": [
    "events.Electrons.pt"
   ]
  },
  {
   "cell_type": "markdown",
   "id": "5c512765-bd51-42f7-9fd5-79813ff41da7",
   "metadata": {},
   "source": [
    "### Lazy loading\n",
    "\n",
    "Data is read lazily. Columns are only loaded from disk once requested! After loading once, they are cached in memory."
   ]
  },
  {
   "cell_type": "markdown",
   "id": "6b25584c",
   "metadata": {},
   "source": [
    "We can set a debug flag to test the lazy loading:"
   ]
  },
  {
   "cell_type": "code",
   "execution_count": null,
   "id": "13fa0596",
   "metadata": {},
   "outputs": [],
   "source": [
    "from coffea.nanoevents.mapping import UprootSourceMapping\n",
    "UprootSourceMapping._debug = True"
   ]
  },
  {
   "cell_type": "code",
   "execution_count": null,
   "id": "ff68ac25",
   "metadata": {},
   "outputs": [],
   "source": [
    "events.Muons.pt"
   ]
  },
  {
   "cell_type": "markdown",
   "id": "3d0e15bd",
   "metadata": {},
   "source": [
    "The second time, the array is cached:"
   ]
  },
  {
   "cell_type": "code",
   "execution_count": null,
   "id": "65eebf50",
   "metadata": {},
   "outputs": [],
   "source": [
    "events.Muons.pt"
   ]
  },
  {
   "cell_type": "code",
   "execution_count": null,
   "id": "9389e675",
   "metadata": {},
   "outputs": [],
   "source": [
    "UprootSourceMapping._debug = False"
   ]
  },
  {
   "cell_type": "markdown",
   "id": "2840f576",
   "metadata": {},
   "source": [
    "Most collections have LorentzVector behavior and can utilize the methods available in coffea:"
   ]
  },
  {
   "cell_type": "code",
   "execution_count": null,
   "id": "db53394a",
   "metadata": {},
   "outputs": [],
   "source": [
    "# invariant mass of first and second jet in each event\n",
    "(events.Jets[:, 0] + events.Jets[:, 1]).mass"
   ]
  },
  {
   "cell_type": "code",
   "execution_count": null,
   "id": "646bef7a",
   "metadata": {},
   "outputs": [],
   "source": [
    "# delta_r between each Electron and it's closest Jet\n",
    "closest_jets = events.Electrons.nearest(events.Jets)\n",
    "events.Electrons.delta_r(closest_jets)"
   ]
  },
  {
   "cell_type": "markdown",
   "id": "5687f764",
   "metadata": {},
   "source": [
    "Cross references work transparently:"
   ]
  },
  {
   "cell_type": "code",
   "execution_count": null,
   "id": "c9094cd3-7547-4e59-bfb1-b0ecb65d51c9",
   "metadata": {},
   "outputs": [],
   "source": [
    "events.Electrons.trackParticles"
   ]
  },
  {
   "cell_type": "code",
   "execution_count": null,
   "id": "158a3b72",
   "metadata": {},
   "outputs": [],
   "source": [
    "events.Electrons.trackParticles.z0"
   ]
  },
  {
   "cell_type": "markdown",
   "id": "45d6d0ca",
   "metadata": {},
   "source": [
    "What happened here?\n",
    "\n",
    "- read event offsets from one column of the TrackParticle collection\n",
    "- read one column of the Electron collection to get the event index of each Electron\n",
    "- read Electron-TrackParticle ElementLinks\n",
    "- read requested column from TrackParticle collection\n",
    "- generate global index (into flat TrackParticle array) from event index and local index stored in ElementLink  \n",
    "  → slightly different approach as in CMS NanoAOD\n",
    "  - NanoAOD: global index created from target collection\n",
    "  - PHYSLITE: global index created from event index + local index\n",
    "  - Advantage: don't need to know target collection beforehand\n",
    "    (in PHYSLITE the target is stored per-link in the `m_persKey` property)\n",
    "- create IndexedArray from this"
   ]
  },
  {
   "cell_type": "code",
   "execution_count": null,
   "id": "e3b07290",
   "metadata": {},
   "outputs": [],
   "source": [
    "events._caches[0].clear()\n",
    "UprootSourceMapping._debug = True\n",
    "print(events.Electrons.trackParticles.z0)\n",
    "UprootSourceMapping._debug = False"
   ]
  },
  {
   "cell_type": "code",
   "execution_count": null,
   "id": "5004d80c",
   "metadata": {},
   "outputs": [],
   "source": [
    "events.Electrons.trackParticles.z0.layout.form"
   ]
  },
  {
   "cell_type": "markdown",
   "id": "9e3e4cfd",
   "metadata": {},
   "source": [
    "Working with global indices allows cross referencing even when the array is sliced, selected or reshuffled:"
   ]
  },
  {
   "cell_type": "code",
   "execution_count": null,
   "id": "e348c749",
   "metadata": {},
   "outputs": [],
   "source": [
    "events.Electrons[events.Electrons.pt > 10000].trackParticles"
   ]
  },
  {
   "cell_type": "code",
   "execution_count": null,
   "id": "5ff93bcb",
   "metadata": {},
   "outputs": [],
   "source": [
    "events[[2, 3]].Electrons.trackParticles.pt.tolist()"
   ]
  },
  {
   "cell_type": "code",
   "execution_count": null,
   "id": "cbfc5d1e",
   "metadata": {},
   "outputs": [],
   "source": [
    "events[[3, 2]].Electrons.trackParticles.pt.tolist()"
   ]
  },
  {
   "cell_type": "markdown",
   "id": "83c4bef7",
   "metadata": {},
   "source": [
    "**Specific to PHYSLITE**: Can link into multiple target collections.\n",
    "\n",
    "For example: TruthCollections potentially contain links into multiple other TruthCollections:"
   ]
  },
  {
   "cell_type": "code",
   "execution_count": null,
   "id": "143e2988",
   "metadata": {},
   "outputs": [],
   "source": [
    "# under the hood, this is a union array\n",
    "events.TruthElectrons.parents"
   ]
  },
  {
   "cell_type": "code",
   "execution_count": null,
   "id": "6e5dfe2d",
   "metadata": {},
   "outputs": [],
   "source": [
    "events.TruthElectrons.parents.pdgId"
   ]
  },
  {
   "cell_type": "markdown",
   "id": "d543e27d",
   "metadata": {},
   "source": [
    "behavior will be attached to the resulting arrays, so one can in principle also do \"cyclic\" references:"
   ]
  },
  {
   "cell_type": "code",
   "execution_count": null,
   "id": "6025efd7",
   "metadata": {},
   "outputs": [],
   "source": [
    "events.TruthElectrons.parents.children.parents.children.pdgId"
   ]
  },
  {
   "cell_type": "code",
   "execution_count": null,
   "id": "d9b87d5b",
   "metadata": {},
   "outputs": [],
   "source": [
    "events.TruthElectrons.parents.children.parents.children.pdgId.ndim"
   ]
  },
  {
   "cell_type": "markdown",
   "id": "977c9abd",
   "metadata": {
    "tags": []
   },
   "source": [
    "## Open questions\n",
    "\n",
    "- How to handle systematics/more complicated things (like e.g. MET)?\n",
    "  - Simplify application of systematics, e.g. parametrized for simple application?\n",
    "  - Or can we provide an interface to existing C++ CP tools?\n",
    "- How far can this analysis style be brought upstream?\n",
    "  - Directly run on raw PHYSLITE content?\n",
    "  - Or produce smaller ntuples?"
   ]
  }
 ],
 "metadata": {
  "kernelspec": {
   "display_name": "Python 3",
   "language": "python",
   "name": "python3"
  },
  "language_info": {
   "codemirror_mode": {
    "name": "ipython",
    "version": 3
   },
   "file_extension": ".py",
   "mimetype": "text/x-python",
   "name": "python",
   "nbconvert_exporter": "python",
   "pygments_lexer": "ipython3",
   "version": "3.9.7"
  },
  "toc": {
   "base_numbering": 1,
   "nav_menu": {},
   "number_sections": true,
   "sideBar": true,
   "skip_h1_title": false,
   "title_cell": "Table of Contents",
   "title_sidebar": "Contents",
   "toc_cell": false,
   "toc_position": {},
   "toc_section_display": true,
   "toc_window_display": false
  }
 },
 "nbformat": 4,
 "nbformat_minor": 5
}
