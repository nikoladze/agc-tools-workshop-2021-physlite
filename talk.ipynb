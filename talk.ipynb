{
 "cells": [
  {
   "cell_type": "markdown",
   "id": "european-ebony",
   "metadata": {},
   "source": [
    "# Columnar data analysis with `DAOD_PHYSLITE`\n",
    "\n",
    "`DAOD_PHYSLITE` a prototype format within ATLAS to provide a small, generic analysis format for end-user analysis. A standard set of calibrations is already applied during production, making it suitable for fast downstream processing.\n",
    "<img src=\"img/run3_model_focus.png\" width=\"800\"/>\n",
    "(plot from [presentation at CHEP2020](https://doi.org/10.1051/epjconf/202024506014))\n",
    "\n",
    "\n",
    "The format and corresponding analysis applications are still under development. This presentation focusses on applying columnar data analysis with python tools on this format. For further information also see\n",
    "\n",
    "- [VCHEP2021 presentation](https://doi.org/10.1051/epjconf/202125103001)\n",
    "- code for R&D studies: https://gitlab.cern.ch/nihartma/physlite-experiments"
   ]
  },
  {
   "cell_type": "markdown",
   "id": "patient-recommendation",
   "metadata": {},
   "source": [
    "## Reading the data using uproot"
   ]
  },
  {
   "cell_type": "markdown",
   "id": "particular-fashion",
   "metadata": {},
   "source": [
    "The PHYSLITE ROOT files currently follow a similar structure as regular ATLAS xAODs, containing several trees, where the one holding the actual data is called `CollectionTree`:"
   ]
  },
  {
   "cell_type": "code",
   "execution_count": null,
   "id": "impossible-leave",
   "metadata": {},
   "outputs": [],
   "source": [
    "import uproot"
   ]
  },
  {
   "cell_type": "code",
   "execution_count": null,
   "id": "immediate-judge",
   "metadata": {},
   "outputs": [],
   "source": [
    "f = uproot.open(\"data/DAOD_PHYSLITE_21.2.108.0.art.pool.root\")"
   ]
  },
  {
   "cell_type": "code",
   "execution_count": null,
   "id": "manufactured-footwear",
   "metadata": {},
   "outputs": [],
   "source": [
    "f.keys()"
   ]
  },
  {
   "cell_type": "markdown",
   "id": "higher-beijing",
   "metadata": {},
   "source": [
    "All branches are stored with the highest split level and in most cases the data is stored in branches called `Aux.<something>` or `AuxDyn.<something>`. Typically these are vectors of fundamental types, like e.g. pt/eta/phi of particle collections. They can be read into numpy arrays efficiently using uproot since the data is (except for the 10-byte vector headers whoose positions are known from ROOT's event offsets) stored as contiguous blocks."
   ]
  },
  {
   "cell_type": "code",
   "execution_count": null,
   "id": "bizarre-spring",
   "metadata": {},
   "outputs": [],
   "source": [
    "f[\"CollectionTree\"].show(\"/AnalysisElectronsAuxDyn.(pt|eta|phi)$/i\", name_width=30, interpretation_width=50)"
   ]
  },
  {
   "cell_type": "markdown",
   "id": "painted-glance",
   "metadata": {},
   "source": [
    "The most relevant exception to this are `ElementLink` branches which provide cross references into other collections. First, they are often 2-dimensional (`vector<vector<...>`) and second, their data part (`ElementLink`) is serialized as a structure of 2 32bit unsigned integers: a hash `m_persKey`, identifying the target collection and an index `m_persIndex` identifying the array-index of the corresponding particle in the target collection."
   ]
  },
  {
   "cell_type": "code",
   "execution_count": null,
   "id": "understood-channel",
   "metadata": {},
   "outputs": [],
   "source": [
    "f[\"CollectionTree/AnalysisElectronsAuxDyn.trackParticleLinks\"].typename"
   ]
  },
  {
   "cell_type": "code",
   "execution_count": null,
   "id": "fantastic-footwear",
   "metadata": {},
   "outputs": [],
   "source": [
    "f[\"CollectionTree/AnalysisElectronsAuxDyn.trackParticleLinks\"].streamer"
   ]
  },
  {
   "cell_type": "code",
   "execution_count": null,
   "id": "molecular-craft",
   "metadata": {},
   "outputs": [],
   "source": [
    "[element.all_members for element in f.file.streamer_named(\"ElementLinkBase\").elements]"
   ]
  },
  {
   "cell_type": "markdown",
   "id": "arctic-gibson",
   "metadata": {},
   "source": [
    "Uproot can read this, but the loop that deserializes the data is done in python and therefore slow. This is not relevant for this very small file, but becomes important for larger files."
   ]
  },
  {
   "cell_type": "code",
   "execution_count": null,
   "id": "strategic-duration",
   "metadata": {},
   "outputs": [],
   "source": [
    "%%time\n",
    "f[\"CollectionTree/AnalysisElectronsAuxDyn.trackParticleLinks\"].array()"
   ]
  },
  {
   "cell_type": "markdown",
   "id": "exotic-queens",
   "metadata": {},
   "source": [
    "This can be handled by [AwkwardForth](https://doi.org/10.1051/epjconf/202125103002) which is however currently (November 2021) not yet integrated with uproot. I included a small module that can handle the relevant branches in PHYSLITE with a function `branch_to_array` that uses AwkwardForth internally.\n",
    "\n",
    "One can actually see a significant improvement already for the small file with only 40 events!"
   ]
  },
  {
   "cell_type": "code",
   "execution_count": null,
   "id": "vocal-passing",
   "metadata": {},
   "outputs": [],
   "source": [
    "from awkward_forth_physlite import branch_to_array"
   ]
  },
  {
   "cell_type": "code",
   "execution_count": null,
   "id": "foster-victorian",
   "metadata": {},
   "outputs": [],
   "source": [
    "branch_to_array(f[\"CollectionTree/AnalysisElectronsAuxDyn.trackParticleLinks\"])"
   ]
  },
  {
   "cell_type": "code",
   "execution_count": null,
   "id": "persistent-energy",
   "metadata": {},
   "outputs": [],
   "source": [
    "%%timeit\n",
    "# using standard uproot\n",
    "f.file.array_cache.clear()\n",
    "f[\"CollectionTree/AnalysisElectronsAuxDyn.trackParticleLinks\"].array()"
   ]
  },
  {
   "cell_type": "code",
   "execution_count": null,
   "id": "favorite-realtor",
   "metadata": {},
   "outputs": [],
   "source": [
    "%%timeit\n",
    "# using awkward forth\n",
    "f.file.array_cache.clear()\n",
    "branch_to_array(f[\"CollectionTree/AnalysisElectronsAuxDyn.trackParticleLinks\"])"
   ]
  },
  {
   "cell_type": "markdown",
   "id": "4517f831",
   "metadata": {},
   "source": [
    "## Integration with `coffea.nanoevents`\n",
    "\n",
    "Still in development"
   ]
  },
  {
   "cell_type": "code",
   "execution_count": null,
   "id": "f08d7cbe",
   "metadata": {},
   "outputs": [],
   "source": [
    "from coffea.nanoevents import NanoEventsFactory, PHYSLITESchema"
   ]
  },
  {
   "cell_type": "code",
   "execution_count": null,
   "id": "02f86f8a",
   "metadata": {},
   "outputs": [],
   "source": [
    "factory = NanoEventsFactory.from_root(\n",
    "    \"data/DAOD_PHYSLITE_21.2.108.0.art.pool.root\", \"CollectionTree\", schemaclass=PHYSLITESchema\n",
    ")\n",
    "events = factory.events()"
   ]
  },
  {
   "cell_type": "code",
   "execution_count": null,
   "id": "fa2255c4",
   "metadata": {},
   "outputs": [],
   "source": [
    "events"
   ]
  },
  {
   "cell_type": "code",
   "execution_count": null,
   "id": "8e589085",
   "metadata": {},
   "outputs": [],
   "source": [
    "events.Electrons"
   ]
  },
  {
   "cell_type": "code",
   "execution_count": null,
   "id": "5a0fa547",
   "metadata": {},
   "outputs": [],
   "source": [
    "events.Electrons.pt"
   ]
  },
  {
   "cell_type": "code",
   "execution_count": null,
   "id": "646bef7a",
   "metadata": {},
   "outputs": [],
   "source": [
    "closest_jets = events.Electrons.nearest(events.Jets)\n",
    "events.Electrons.delta_r(closest_jets)"
   ]
  },
  {
   "cell_type": "markdown",
   "id": "977c9abd",
   "metadata": {},
   "source": [
    "## Open questions\n",
    "\n",
    "- How to handle systematics/more complicated things (like e.g. MET)?\n",
    "  - Simplify application of systematics, e.g. parametrized for simple application?\n",
    "  - Or can we provide an interface to existing C++ CP tools?\n",
    "- How far can this analysis style be brought upstream?\n",
    "  - Directly run on raw PHYSLITE content?\n",
    "  - Or produce smaller ntuples?"
   ]
  }
 ],
 "metadata": {
  "kernelspec": {
   "display_name": "Python 3",
   "language": "python",
   "name": "python3"
  },
  "language_info": {
   "codemirror_mode": {
    "name": "ipython",
    "version": 3
   },
   "file_extension": ".py",
   "mimetype": "text/x-python",
   "name": "python",
   "nbconvert_exporter": "python",
   "pygments_lexer": "ipython3",
   "version": "3.9.7"
  },
  "toc": {
   "base_numbering": 1,
   "nav_menu": {},
   "number_sections": true,
   "sideBar": true,
   "skip_h1_title": false,
   "title_cell": "Table of Contents",
   "title_sidebar": "Contents",
   "toc_cell": false,
   "toc_position": {},
   "toc_section_display": true,
   "toc_window_display": false
  }
 },
 "nbformat": 4,
 "nbformat_minor": 5
}
